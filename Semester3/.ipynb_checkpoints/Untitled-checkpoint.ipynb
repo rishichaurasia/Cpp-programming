{
 "cells": [
  {
   "cell_type": "code",
   "execution_count": null,
   "metadata": {},
   "outputs": [],
   "source": [
    "import matplotlib.pyplot as plt \n",
    "import numpy as np\n",
    "import pandas as pd\n",
    "\n",
    "n=[]\n",
    "\n",
    "for i in range(10,100,5):\n",
    "    n.append(i)\n",
    "    \n",
    "best_case=[]\n",
    "average_case=[]\n",
    "worst_case=[]\n",
    "    \n",
    "for size in n:\n",
    "    arr=[];\n",
    "    number_of_comprison=[];\n",
    "    for i in range(1,size+1):\n",
    "        arr.append(i)\n",
    "\n",
    "    for key in range(1,size+2):\n",
    "        count = 0;\n",
    "        for i in arr:\n",
    "            count+=1;\n",
    "            if (i==key):\n",
    "                break;\n",
    "        number_of_comprison.append(count);\n",
    "        \n",
    "    best_case.append(number_of_comprison[0])\n",
    "    average_case.append(number_of_comprison[(int)(size/2)])\n",
    "    worst_case.append(number_of_comprison[size])\n",
    "\n",
    "data = pd.DataFrame({\n",
    "    \"Size of array(n)\":n,\n",
    "    \"Best case\":best_case,\n",
    "    \"Average case\":average_case,\n",
    "    \"Worst case\":worst_case\n",
    "})\n"
   ]
  },
  {
   "cell_type": "code",
   "execution_count": null,
   "metadata": {},
   "outputs": [],
   "source": [
    "data"
   ]
  },
  {
   "cell_type": "code",
   "execution_count": null,
   "metadata": {},
   "outputs": [],
   "source": [
    "plt.plot(n,best_case,color='green') \n",
    "plt.plot(n,average_case,color='blue')\n",
    "plt.plot(n,worst_case,color='red') \n",
    "plt.xlim(0,100)\n",
    "plt.ylim(0,100)\n",
    "plt.ylabel('Number Of Comparisions') \n",
    "plt.xlabel('Size of Array') \n",
    "plt.legend(['Best case','Average case','Worst case'])\n",
    "plt.show()"
   ]
  },
  {
   "cell_type": "code",
   "execution_count": null,
   "metadata": {},
   "outputs": [],
   "source": []
  }
 ],
 "metadata": {
  "kernelspec": {
   "display_name": "Python 3",
   "language": "python",
   "name": "python3"
  },
  "language_info": {
   "codemirror_mode": {
    "name": "ipython",
    "version": 3
   },
   "file_extension": ".py",
   "mimetype": "text/x-python",
   "name": "python",
   "nbconvert_exporter": "python",
   "pygments_lexer": "ipython3",
   "version": "3.7.4"
  }
 },
 "nbformat": 4,
 "nbformat_minor": 2
}
